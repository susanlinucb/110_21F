{
 "cells": [
  {
   "cell_type": "markdown",
   "id": "economic-export",
   "metadata": {},
   "source": [
    "# Plotting some vowels\n",
    "\n",
    "Welcome to this notebook! It is a small modification of the Englishvowelplots notebook that you may have used to plot your own vowel space for **HW6**. The only subtantive difference in the data is that it expects _four_ columns now:\n",
    "- vowel: the identity of the vowel\n",
    "- word: the word that the vowel is from\n",
    "- F1: as before\n",
    "- F2: as before\n",
    "\n",
    "This will allow you, if you want, to look at the variation between vowel productions based on the specific words they came from. You can also skip forward to the second plot, which averages the F1 and F2 values for each of the vowel qualities. \n",
    "\n",
    "You can also add other columns you might be interested in, such as 'year' if you're looking at longitudinal data and want to see how someone's vowel space has changed over time, or 'context' if you are interested in looking at differences between word list elicitations and spontaneous or read speech. There are many possibilities! Please don't hesitate to get in touch with your GSI or Prof. Lin if you're interested in exploring some of these factors and don't know how to get started modifying this code. We'd love to chat with you!"
   ]
  },
  {
   "cell_type": "code",
   "execution_count": 1,
   "id": "improved-conclusion",
   "metadata": {},
   "outputs": [],
   "source": [
    "import pandas as pd\n",
    "import seaborn as sns\n",
    "import matplotlib.pyplot as plt\n",
    "import os"
   ]
  },
  {
   "cell_type": "markdown",
   "id": "mighty-implementation",
   "metadata": {},
   "source": [
    "## 1. Find and read the data\n",
    "\n",
    "This notebook assumes that there is a file called 'formants.csv' located in the same directory as the notebook itself. You should upload one by going to your Datahub home page and using the \"upload\" button on the right panel, and follow the instructions. This file should be a CSV file, with at least four columns:\n",
    "- vowel: the identity of the vowel\n",
    "- word: the word that the vowel is from\n",
    "- F1: as usual\n",
    "- F2: as usual"
   ]
  },
  {
   "cell_type": "code",
   "execution_count": 2,
   "id": "judicial-oracle",
   "metadata": {},
   "outputs": [],
   "source": [
    "formantfile = os.path.abspath('./formants2.csv')"
   ]
  },
  {
   "cell_type": "markdown",
   "id": "quarterly-comfort",
   "metadata": {},
   "source": [
    "Now read in and check the data."
   ]
  },
  {
   "cell_type": "code",
   "execution_count": 3,
   "id": "split-immigration",
   "metadata": {},
   "outputs": [
    {
     "data": {
      "text/html": [
       "<div>\n",
       "<style scoped>\n",
       "    .dataframe tbody tr th:only-of-type {\n",
       "        vertical-align: middle;\n",
       "    }\n",
       "\n",
       "    .dataframe tbody tr th {\n",
       "        vertical-align: top;\n",
       "    }\n",
       "\n",
       "    .dataframe thead th {\n",
       "        text-align: right;\n",
       "    }\n",
       "</style>\n",
       "<table border=\"1\" class=\"dataframe\">\n",
       "  <thead>\n",
       "    <tr style=\"text-align: right;\">\n",
       "      <th></th>\n",
       "      <th>vowel</th>\n",
       "      <th>word</th>\n",
       "      <th>F1</th>\n",
       "      <th>F2</th>\n",
       "    </tr>\n",
       "  </thead>\n",
       "  <tbody>\n",
       "    <tr>\n",
       "      <th>0</th>\n",
       "      <td>i</td>\n",
       "      <td>bead</td>\n",
       "      <td>265.243007</td>\n",
       "      <td>2856.897855</td>\n",
       "    </tr>\n",
       "    <tr>\n",
       "      <th>1</th>\n",
       "      <td>ɛ</td>\n",
       "      <td>bed</td>\n",
       "      <td>647.557415</td>\n",
       "      <td>2050.247128</td>\n",
       "    </tr>\n",
       "    <tr>\n",
       "      <th>2</th>\n",
       "      <td>ɪ</td>\n",
       "      <td>bid</td>\n",
       "      <td>382.105632</td>\n",
       "      <td>2304.680007</td>\n",
       "    </tr>\n",
       "    <tr>\n",
       "      <th>3</th>\n",
       "      <td>e</td>\n",
       "      <td>bade</td>\n",
       "      <td>399.658142</td>\n",
       "      <td>2451.130401</td>\n",
       "    </tr>\n",
       "    <tr>\n",
       "      <th>4</th>\n",
       "      <td>æ</td>\n",
       "      <td>bad</td>\n",
       "      <td>912.582344</td>\n",
       "      <td>1975.055854</td>\n",
       "    </tr>\n",
       "  </tbody>\n",
       "</table>\n",
       "</div>"
      ],
      "text/plain": [
       "  vowel  word          F1           F2\n",
       "0     i  bead  265.243007  2856.897855\n",
       "1     ɛ   bed  647.557415  2050.247128\n",
       "2     ɪ   bid  382.105632  2304.680007\n",
       "3     e  bade  399.658142  2451.130401\n",
       "4     æ   bad  912.582344  1975.055854"
      ]
     },
     "execution_count": 3,
     "metadata": {},
     "output_type": "execute_result"
    }
   ],
   "source": [
    "formantdf = pd.read_csv(formantfile) # read this file as a dataframe\n",
    "formantdf.head() # show just the first five rows of this new dataframe"
   ]
  },
  {
   "cell_type": "markdown",
   "id": "resident-popularity",
   "metadata": {},
   "source": [
    "## 2. Make a plot\n",
    "\n",
    "We're doing almost the same thing here as we did last time. What's new here is\n",
    "- We skipped the cardinal vowels.\n",
    "- We're plotting multiple words with (supposedly) the same vowel. This helps us see if there's any systematic variation that has to do with the context that the vowels are in. Here I was curious what the effects of nasalization on these vowels might be, and you can see that there's not much of an effect in general but some vowels do show nasal vowel variation (compared to oral vowels)."
   ]
  },
  {
   "cell_type": "code",
   "execution_count": 4,
   "id": "challenging-power",
   "metadata": {},
   "outputs": [
    {
     "data": {
      "image/png": "[encoded data removed]",
      "text/plain": [
       "<Figure size 432x360 with 1 Axes>"
      ]
     },
     "metadata": {
      "needs_background": "light"
     },
     "output_type": "display_data"
    }
   ],
   "source": [
    "plt.figure(figsize=(6,5))\n",
    "vplot = sns.scatterplot(x='F2', y='F1', data = formantdf, style='vowel', hue='vowel')\n",
    "formantdf.apply(lambda x: vplot.text(x.F2, x.F1+30, x.word), axis=1)\n",
    "vplot.set(xlim=(formantdf.F2.max()*1.1,formantdf.F2.min()*0.9),\n",
    "          ylim=(formantdf.F1.max()*1.1,formantdf.F1.min()*0.9))\n",
    "plt.savefig('manyvowelsplot.pdf')"
   ]
  },
  {
   "cell_type": "markdown",
   "id": "automatic-space",
   "metadata": {},
   "source": [
    "You might also find that you just want the plot itself without all the words because you want to be able to better see the variation. If so, you can just remove the 3rd line in the previous cell."
   ]
  },
  {
   "cell_type": "code",
   "execution_count": 7,
   "id": "permanent-rolling",
   "metadata": {},
   "outputs": [
    {
     "data": {
      "image/png": "[encoded data removed]",
      "text/plain": [
       "<Figure size 432x360 with 1 Axes>"
      ]
     },
     "metadata": {
      "needs_background": "light"
     },
     "output_type": "display_data"
    }
   ],
   "source": [
    "plt.figure(figsize=(6,5))\n",
    "vplot = sns.scatterplot(x='F2', y='F1', data = formantdf, style='vowel', hue='vowel')\n",
    "vplot.set(xlim=(formantdf.F2.max()*1.1,formantdf.F2.min()*0.9),\n",
    "          ylim=(formantdf.F1.max()*1.1,formantdf.F1.min()*0.9))\n",
    "plt.savefig('manyvowelsplot_notext.pdf')"
   ]
  },
  {
   "cell_type": "markdown",
   "id": "plain-glenn",
   "metadata": {},
   "source": [
    "## 3. Find average formant values and then plot\n",
    "\n",
    "But maybe we're not that interested in variation, and we just want a nice average vowel plot. We can use the `groupby` method in `pandas` to average together the F1 and F2 values. (There is more than one way to do this, and even more ways to handle displaying the \"generic\" vowel space; this is just probably the simplest.)"
   ]
  },
  {
   "cell_type": "code",
   "execution_count": 5,
   "id": "several-mechanism",
   "metadata": {},
   "outputs": [
    {
     "data": {
      "text/html": [
       "<div>\n",
       "<style scoped>\n",
       "    .dataframe tbody tr th:only-of-type {\n",
       "        vertical-align: middle;\n",
       "    }\n",
       "\n",
       "    .dataframe tbody tr th {\n",
       "        vertical-align: top;\n",
       "    }\n",
       "\n",
       "    .dataframe thead th {\n",
       "        text-align: right;\n",
       "    }\n",
       "</style>\n",
       "<table border=\"1\" class=\"dataframe\">\n",
       "  <thead>\n",
       "    <tr style=\"text-align: right;\">\n",
       "      <th></th>\n",
       "      <th>vowel</th>\n",
       "      <th>F1</th>\n",
       "      <th>F2</th>\n",
       "    </tr>\n",
       "  </thead>\n",
       "  <tbody>\n",
       "    <tr>\n",
       "      <th>0</th>\n",
       "      <td>e</td>\n",
       "      <td>367.413936</td>\n",
       "      <td>2507.357115</td>\n",
       "    </tr>\n",
       "    <tr>\n",
       "      <th>1</th>\n",
       "      <td>i</td>\n",
       "      <td>284.408531</td>\n",
       "      <td>2879.897867</td>\n",
       "    </tr>\n",
       "    <tr>\n",
       "      <th>2</th>\n",
       "      <td>o</td>\n",
       "      <td>390.513204</td>\n",
       "      <td>1086.863133</td>\n",
       "    </tr>\n",
       "    <tr>\n",
       "      <th>3</th>\n",
       "      <td>u</td>\n",
       "      <td>339.170139</td>\n",
       "      <td>1130.580971</td>\n",
       "    </tr>\n",
       "    <tr>\n",
       "      <th>4</th>\n",
       "      <td>æ</td>\n",
       "      <td>892.394115</td>\n",
       "      <td>2188.685285</td>\n",
       "    </tr>\n",
       "  </tbody>\n",
       "</table>\n",
       "</div>"
      ],
      "text/plain": [
       "  vowel          F1           F2\n",
       "0     e  367.413936  2507.357115\n",
       "1     i  284.408531  2879.897867\n",
       "2     o  390.513204  1086.863133\n",
       "3     u  339.170139  1130.580971\n",
       "4     æ  892.394115  2188.685285"
      ]
     },
     "execution_count": 5,
     "metadata": {},
     "output_type": "execute_result"
    }
   ],
   "source": [
    "meandf = formantdf.groupby(['vowel']).mean().reset_index()\n",
    "meandf.head()"
   ]
  },
  {
   "cell_type": "markdown",
   "id": "laden-piano",
   "metadata": {},
   "source": [
    "Now plot (and save)!"
   ]
  },
  {
   "cell_type": "code",
   "execution_count": 6,
   "id": "domestic-target",
   "metadata": {},
   "outputs": [
    {
     "data": {
      "image/png": "[encoded data removed]",
      "text/plain": [
       "<Figure size 432x360 with 1 Axes>"
      ]
     },
     "metadata": {
      "needs_background": "light"
     },
     "output_type": "display_data"
    }
   ],
   "source": [
    "plt.figure(figsize=(6,5))\n",
    "vplot = sns.scatterplot(x='F2', y='F1', data = meandf, style='vowel', hue='vowel')\n",
    "meandf.apply(lambda x: vplot.text(x.F2, x.F1+30, x.vowel), axis=1)\n",
    "vplot.set(xlim=(meandf.F2.max()*1.1,meandf.F2.min()*0.9),\n",
    "          ylim=(meandf.F1.max()*1.1,meandf.F1.min()*0.9))\n",
    "plt.savefig('meanvowelplot.pdf')"
   ]
  }
 ],
 "metadata": {
  "kernelspec": {
   "display_name": "Python 3",
   "language": "python",
   "name": "python3"
  },
  "language_info": {
   "codemirror_mode": {
    "name": "ipython",
    "version": 3
   },
   "file_extension": ".py",
   "mimetype": "text/x-python",
   "name": "python",
   "nbconvert_exporter": "python",
   "pygments_lexer": "ipython3",
   "version": "3.9.1"
  }
 },
 "nbformat": 4,
 "nbformat_minor": 5
}
